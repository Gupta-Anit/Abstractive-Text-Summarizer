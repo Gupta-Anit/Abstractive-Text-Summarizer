{
 "cells": [
  {
   "cell_type": "code",
   "execution_count": 14,
   "metadata": {},
   "outputs": [
    {
     "name": "stderr",
     "output_type": "stream",
     "text": [
      "WARNING:bokeh.embed.util:\n",
      "You are generating standalone HTML/JS output, but trying to use real Python\n",
      "callbacks (i.e. with on_change or on_event). This combination cannot work.\n",
      "\n",
      "Only JavaScript callbacks may be used with standalone output. For more\n",
      "information on JavaScript callbacks with Bokeh, see:\n",
      "\n",
      "    http://bokeh.pydata.org/en/latest/docs/user_guide/interaction/callbacks.html\n",
      "\n",
      "Alternatively, to use real Python callbacks, a Bokeh server application may\n",
      "be used. For more information on building and running Bokeh applications, see:\n",
      "\n",
      "    http://bokeh.pydata.org/en/latest/docs/user_guide/server.html\n",
      "\n"
     ]
    }
   ],
   "source": [
    "''' Present an interactive function explorer with slider widgets.\n",
    "Scrub the sliders to change the properties of the ``sin`` curve, or\n",
    "type into the title text box to update the title of the plot.\n",
    "Use the ``bokeh serve`` command to run the example by executing:\n",
    "    bokeh serve sliders.py\n",
    "at your command prompt. Then navigate to the URL\n",
    "    http://localhost:5006/sliders\n",
    "in your browser.\n",
    "'''\n",
    "import numpy as np\n",
    "\n",
    "from bokeh.io import curdoc\n",
    "from bokeh.layouts import column, row\n",
    "from bokeh.models import ColumnDataSource, Slider, TextInput,TextAreaInput\n",
    "from bokeh.plotting import figure, output_file, show, ColumnDataSource\n",
    "from bokeh.models import CustomJS, Button\n",
    "from bokeh.layouts import row, column\n",
    "from bokeh.plotting import figure\n",
    "\n",
    "text_input=\"Enter Headline\"\n",
    "#source = ColumnDataSource(data=dict(text_input=text_input))\n",
    "#setup widgets\n",
    "text_input = TextAreaInput(cols=200, title=\"Enter Headline\",width=1000, height=80)\n",
    "summary_output = TextInput(title=\"Summary Generated\",width=300, height=80)\n",
    "savebutton = Button(label=\"Generate Summary\", button_type=\"success\",width=300, height=50)\n",
    "\n",
    "\n",
    "def get_the_headline(sent):\n",
    "    return sent+' '+sent\n",
    "\n",
    "# Set up callbacks\n",
    "def textsummary(summary):\n",
    "    get_the_headline(text_input.value)\n",
    "    summary_output.value=get_the_headline(text_input.value)\n",
    "\n",
    "#text_input.on_change('value', textsummary)\n",
    "savebutton.on_click(textsummary)\n",
    "\n",
    "# Set up layouts and add to document\n",
    "inputs = column(text_input,summary_output,savebutton)\n",
    "\n",
    "curdoc().add_root(row(inputs, width=800))\n",
    "curdoc().title = \"Sliders\"\n",
    "show(inputs)"
   ]
  },
  {
   "cell_type": "code",
   "execution_count": 4,
   "metadata": {},
   "outputs": [],
   "source": [
    "def textsummary(sent):\n",
    "    return sent;"
   ]
  },
  {
   "cell_type": "code",
   "execution_count": null,
   "metadata": {},
   "outputs": [],
   "source": []
  }
 ],
 "metadata": {
  "kernelspec": {
   "display_name": "Python 3",
   "language": "python",
   "name": "python3"
  },
  "language_info": {
   "codemirror_mode": {
    "name": "ipython",
    "version": 3
   },
   "file_extension": ".py",
   "mimetype": "text/x-python",
   "name": "python",
   "nbconvert_exporter": "python",
   "pygments_lexer": "ipython3",
   "version": "3.7.4"
  },
  "toc": {
   "base_numbering": 1,
   "nav_menu": {},
   "number_sections": true,
   "sideBar": true,
   "skip_h1_title": false,
   "title_cell": "Table of Contents",
   "title_sidebar": "Contents",
   "toc_cell": false,
   "toc_position": {},
   "toc_section_display": true,
   "toc_window_display": true
  }
 },
 "nbformat": 4,
 "nbformat_minor": 2
}
